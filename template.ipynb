{
  "nbformat": 4,
  "nbformat_minor": 0,
  "metadata": {
    "colab": {
      "name": "intro.ipynb",
      "provenance": [],
      "authorship_tag": "ABX9TyOg/RG0b/D0e10xUZDO6hqV",
      "include_colab_link": true
    },
    "kernelspec": {
      "name": "python3",
      "display_name": "Python 3"
    },
    "language_info": {
      "name": "python"
    }
  },
  "cells": [
    {
      "cell_type": "markdown",
      "metadata": {
        "id": "view-in-github",
        "colab_type": "text"
      },
      "source": [
        "<a href=\"https://colab.research.google.com/github/divyatejakola/learn-colab/blob/main/template.ipynb\" target=\"_parent\"><img src=\"https://colab.research.google.com/assets/colab-badge.svg\" alt=\"Open In Colab\"/></a>"
      ]
    },
    {
      "cell_type": "code",
      "execution_count": 1,
      "metadata": {
        "id": "g2yzRHQC9EUX",
        "outputId": "0b3b5660-60ba-4ba1-e40d-022fa6886f7f",
        "colab": {
          "base_uri": "https://localhost:8080/"
        }
      },
      "outputs": [
        {
          "output_type": "stream",
          "name": "stdout",
          "text": [
            "hii,iam ready to work\n"
          ]
        }
      ],
      "source": [
        "print(\"hii,iam ready to work\")"
      ]
    },
    {
      "cell_type": "code",
      "source": [
        "print(\"Hello, colab\")"
      ],
      "metadata": {
        "id": "dJ4t5NjFCNnd",
        "outputId": "d320bf8c-5886-42ea-e80c-62ac3a15027b",
        "colab": {
          "base_uri": "https://localhost:8080/"
        }
      },
      "execution_count": 2,
      "outputs": [
        {
          "output_type": "stream",
          "name": "stdout",
          "text": [
            "Hello, colab\n"
          ]
        }
      ]
    },
    {
      "cell_type": "code",
      "source": [
        ""
      ],
      "metadata": {
        "id": "KZzkz1AlCZ_b"
      },
      "execution_count": null,
      "outputs": []
    }
  ]
}